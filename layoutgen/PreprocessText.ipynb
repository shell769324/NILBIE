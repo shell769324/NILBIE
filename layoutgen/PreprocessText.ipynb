{
 "cells": [
  {
   "cell_type": "code",
   "execution_count": 1,
   "metadata": {},
   "outputs": [
    {
     "name": "stdout",
     "output_type": "stream",
     "text": [
      "2020-12-11 01:42:31,648 https://flair.informatik.hu-berlin.de/resources/embeddings/token/glove.gensim.vectors.npy not found in cache, downloading to C:\\Users\\JASONW~1\\AppData\\Local\\Temp\\tmpj0g1c85s\n"
     ]
    },
    {
     "name": "stderr",
     "output_type": "stream",
     "text": [
      "100%|████████████████████████████████████████████████████████████████| 160000128/160000128 [00:44<00:00, 3577749.63B/s]"
     ]
    },
    {
     "name": "stdout",
     "output_type": "stream",
     "text": [
      "2020-12-11 01:43:16,804 copying C:\\Users\\JASONW~1\\AppData\\Local\\Temp\\tmpj0g1c85s to cache at C:\\Users\\Jason Wu\\.flair\\embeddings\\glove.gensim.vectors.npy\n"
     ]
    },
    {
     "name": "stderr",
     "output_type": "stream",
     "text": [
      "\n"
     ]
    },
    {
     "name": "stdout",
     "output_type": "stream",
     "text": [
      "2020-12-11 01:43:16,902 removing temp file C:\\Users\\JASONW~1\\AppData\\Local\\Temp\\tmpj0g1c85s\n",
      "2020-12-11 01:43:17,587 https://flair.informatik.hu-berlin.de/resources/embeddings/token/glove.gensim not found in cache, downloading to C:\\Users\\JASONW~1\\AppData\\Local\\Temp\\tmpgb9a6fkz\n"
     ]
    },
    {
     "name": "stderr",
     "output_type": "stream",
     "text": [
      "100%|██████████████████████████████████████████████████████████████████| 21494764/21494764 [00:05<00:00, 3960652.77B/s]"
     ]
    },
    {
     "name": "stdout",
     "output_type": "stream",
     "text": [
      "2020-12-11 01:43:23,439 copying C:\\Users\\JASONW~1\\AppData\\Local\\Temp\\tmpgb9a6fkz to cache at C:\\Users\\Jason Wu\\.flair\\embeddings\\glove.gensim\n",
      "2020-12-11 01:43:23,459 removing temp file C:\\Users\\JASONW~1\\AppData\\Local\\Temp\\tmpgb9a6fkz\n"
     ]
    },
    {
     "name": "stderr",
     "output_type": "stream",
     "text": [
      "\n"
     ]
    }
   ],
   "source": [
    "from flair.embeddings import WordEmbeddings, DocumentPoolEmbeddings\n",
    "from flair.data import Sentence\n",
    "\n",
    "# initialize the word embeddings\n",
    "glove_embedding = WordEmbeddings('glove')\n",
    "\n",
    "# initialize the document embeddings, mode = mean\n",
    "document_embeddings = DocumentPoolEmbeddings([glove_embedding])"
   ]
  },
  {
   "cell_type": "code",
   "execution_count": 11,
   "metadata": {},
   "outputs": [],
   "source": [
    "def embed_txt(t):\n",
    "    sentence = Sentence(t)\n",
    "    document_embeddings.embed(sentence)\n",
    "    return sentence.embedding.cpu()"
   ]
  },
  {
   "cell_type": "code",
   "execution_count": 12,
   "metadata": {},
   "outputs": [],
   "source": [
    "ROOT_PATH = \"/users/jason wu/downloads/GeNeVA-v1/i-CLEVR/text/\""
   ]
  },
  {
   "cell_type": "code",
   "execution_count": 13,
   "metadata": {},
   "outputs": [],
   "source": [
    "import os\n",
    "import os.path\n",
    "import joblib\n",
    "\n",
    "keys = [os.path.join(ROOT_PATH, f) for f in os.listdir(ROOT_PATH) if f.endswith(\".txt\")]"
   ]
  },
  {
   "cell_type": "code",
   "execution_count": 14,
   "metadata": {},
   "outputs": [],
   "source": [
    "CACHE_DIR = \"/users/jason wu/downloads/GeNeVA-v1/i-CLEVR/cache_text\""
   ]
  },
  {
   "cell_type": "code",
   "execution_count": 15,
   "metadata": {},
   "outputs": [],
   "source": [
    "if not os.path.exists(CACHE_DIR):\n",
    "    os.makedirs(CACHE_DIR)"
   ]
  },
  {
   "cell_type": "code",
   "execution_count": 16,
   "metadata": {},
   "outputs": [
    {
     "name": "stdout",
     "output_type": "stream",
     "text": [
      "/users/jason wu/downloads/GeNeVA-v1/i-CLEVR/text/CLEVR_test_000000.txt\n"
     ]
    }
   ],
   "source": [
    "print(keys[0])"
   ]
  },
  {
   "cell_type": "code",
   "execution_count": 17,
   "metadata": {},
   "outputs": [],
   "source": [
    "from tqdm import tqdm"
   ]
  },
  {
   "cell_type": "code",
   "execution_count": 18,
   "metadata": {},
   "outputs": [
    {
     "name": "stderr",
     "output_type": "stream",
     "text": [
      "100%|████████████████████████████████████████████████████████████████████████████| 10003/10003 [03:41<00:00, 45.21it/s]\n"
     ]
    }
   ],
   "source": [
    "for key in tqdm(keys):\n",
    "    filename = key.split(\"/\")[-1].split(\".\")[0]\n",
    "#     cache_file = os.path.join(CACHE_DIR, filename + \".pkl\")\n",
    "    with open(key, 'r') as f:\n",
    "        file_contents = f.read()\n",
    "    file_lines = [l for l in file_contents.split(\"\\n\") if len(l.strip()) > 0]\n",
    "    last = []\n",
    "    for i in range(len(file_lines)):\n",
    "        subkey = filename + \"_\" + str(i)\n",
    "        embedded = embed_txt(file_lines[i])\n",
    "        last.append(embedded)\n",
    "        cache_file = os.path.join(CACHE_DIR, subkey + \".pkl\")\n",
    "        joblib.dump(last[:], cache_file)"
   ]
  },
  {
   "cell_type": "code",
   "execution_count": null,
   "metadata": {},
   "outputs": [],
   "source": []
  },
  {
   "cell_type": "code",
   "execution_count": null,
   "metadata": {},
   "outputs": [],
   "source": []
  }
 ],
 "metadata": {
  "kernelspec": {
   "display_name": "Python 3",
   "language": "python",
   "name": "python3"
  },
  "language_info": {
   "codemirror_mode": {
    "name": "ipython",
    "version": 3
   },
   "file_extension": ".py",
   "mimetype": "text/x-python",
   "name": "python",
   "nbconvert_exporter": "python",
   "pygments_lexer": "ipython3",
   "version": "3.8.5"
  }
 },
 "nbformat": 4,
 "nbformat_minor": 4
}
