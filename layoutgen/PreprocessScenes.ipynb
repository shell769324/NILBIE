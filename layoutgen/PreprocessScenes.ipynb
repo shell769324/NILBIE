{
 "cells": [
  {
   "cell_type": "code",
   "execution_count": 16,
   "metadata": {},
   "outputs": [],
   "source": [
    "ROOT_PATH = \"/users/jason wu/downloads/GeNeVA-v1/i-CLEVR/scenes/\""
   ]
  },
  {
   "cell_type": "code",
   "execution_count": 17,
   "metadata": {},
   "outputs": [],
   "source": [
    "import os\n",
    "import os.path\n",
    "import joblib\n",
    "\n",
    "keys = [os.path.join(ROOT_PATH, f) for f in os.listdir(ROOT_PATH) if f.endswith(\".json\")]"
   ]
  },
  {
   "cell_type": "code",
   "execution_count": 18,
   "metadata": {},
   "outputs": [],
   "source": [
    "CACHE_DIR = \"/users/jason wu/downloads/GeNeVA-v1/i-CLEVR/cache_scenes\""
   ]
  },
  {
   "cell_type": "code",
   "execution_count": 19,
   "metadata": {},
   "outputs": [],
   "source": [
    "if not os.path.exists(CACHE_DIR):\n",
    "    os.makedirs(CACHE_DIR)"
   ]
  },
  {
   "cell_type": "code",
   "execution_count": 20,
   "metadata": {},
   "outputs": [
    {
     "data": {
      "text/plain": [
       "'/users/jason wu/downloads/GeNeVA-v1/i-CLEVR/scenes/CLEVR_test_000000.json'"
      ]
     },
     "execution_count": 20,
     "metadata": {},
     "output_type": "execute_result"
    }
   ],
   "source": [
    "keys[0]"
   ]
  },
  {
   "cell_type": "code",
   "execution_count": 21,
   "metadata": {},
   "outputs": [],
   "source": [
    "import torch\n",
    "import torch.functional as F"
   ]
  },
  {
   "cell_type": "code",
   "execution_count": 22,
   "metadata": {},
   "outputs": [],
   "source": [
    "def one_hot(idx, size):\n",
    "    l = [0 for _ in range(size)]\n",
    "    l[idx] = 1\n",
    "    return l"
   ]
  },
  {
   "cell_type": "code",
   "execution_count": 23,
   "metadata": {},
   "outputs": [],
   "source": [
    "# 8 colors, 3 shape\n",
    "colormap={'red':0,'green':1,'blue':2,'cyan':3,'brown':4,'gray':5,'purple':6,'yellow':7}\n",
    "shapemap={'sphere':0, 'cube':1, 'cylinder':2}"
   ]
  },
  {
   "cell_type": "code",
   "execution_count": 24,
   "metadata": {},
   "outputs": [],
   "source": [
    "def encode_obj(o_pos, o_color, o_shape):\n",
    "    rep = []\n",
    "    rep.extend(o_pos)\n",
    "    rep.extend(one_hot(colormap[o_color], len(colormap)))\n",
    "    rep.extend(one_hot(shapemap[o_shape], len(shapemap)))\n",
    "    return rep"
   ]
  },
  {
   "cell_type": "code",
   "execution_count": 25,
   "metadata": {},
   "outputs": [],
   "source": [
    "from tqdm import tqdm\n",
    "import json"
   ]
  },
  {
   "cell_type": "code",
   "execution_count": 26,
   "metadata": {},
   "outputs": [
    {
     "name": "stderr",
     "output_type": "stream",
     "text": [
      "100%|████████████████████████████████████████████████████████████████████████████| 10003/10003 [01:44<00:00, 95.99it/s]\n"
     ]
    }
   ],
   "source": [
    "for key in tqdm(keys):\n",
    "    filename = key.split(\"/\")[-1].split(\".\")[0]\n",
    "    with open(key, 'r') as f:\n",
    "        key_json = json.load(f)\n",
    "    objs = key_json['objects']\n",
    "    last = []\n",
    "    for i in range(len(objs)):\n",
    "        subkey = filename + \"_\" + str(i)\n",
    "        cache_file = os.path.join(CACHE_DIR, subkey + \".pkl\")\n",
    "        obj = objs[i]\n",
    "        obj_pos = obj['pixel_coords'][:2]\n",
    "        obj_color = obj['color']\n",
    "        obj_shape = obj['shape']\n",
    "        obj_rep = encode_obj(obj_pos, obj_color, obj_shape)\n",
    "        start_scene = last[:]\n",
    "        last.append(obj_rep)\n",
    "        curr_scene = last[:]\n",
    "        combined = [start_scene, curr_scene]\n",
    "        joblib.dump(combined, cache_file)"
   ]
  },
  {
   "cell_type": "code",
   "execution_count": null,
   "metadata": {},
   "outputs": [],
   "source": []
  },
  {
   "cell_type": "code",
   "execution_count": null,
   "metadata": {},
   "outputs": [],
   "source": []
  }
 ],
 "metadata": {
  "kernelspec": {
   "display_name": "Python 3",
   "language": "python",
   "name": "python3"
  },
  "language_info": {
   "codemirror_mode": {
    "name": "ipython",
    "version": 3
   },
   "file_extension": ".py",
   "mimetype": "text/x-python",
   "name": "python",
   "nbconvert_exporter": "python",
   "pygments_lexer": "ipython3",
   "version": "3.8.5"
  }
 },
 "nbformat": 4,
 "nbformat_minor": 4
}
